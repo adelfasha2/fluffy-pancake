{
  "nbformat": 4,
  "nbformat_minor": 0,
  "metadata": {
    "colab": {
      "name": "data_analysis.ipynb",
      "provenance": [],
      "collapsed_sections": []
    },
    "kernelspec": {
      "name": "python3",
      "display_name": "Python 3"
    }
  },
  "cells": [
    {
      "cell_type": "code",
      "metadata": {
        "id": "6bQAbJCnfhpV"
      },
      "source": [
        "import pandas as pd\n",
        "import matplotlib.pyplot as plt\n",
        "import seaborn as sns\n",
        "from scipy.stats import kurtosis, skew, stats\n",
        "from math import sqrt\n",
        "from numpy import mean, var"
      ],
      "execution_count": null,
      "outputs": []
    },
    {
      "cell_type": "code",
      "metadata": {
        "id": "QTXSWND4flDb"
      },
      "source": [
        "data = pd.read_csv(\"../input/insurance2.csv\")\n",
        "print(data.head())"
      ],
      "execution_count": null,
      "outputs": []
    },
    {
      "cell_type": "code",
      "metadata": {
        "id": "TsZN8iRGfqf0"
      },
      "source": [
        "print(\"Summary Statistics of Medical Costs\")\n",
        "print(data['charges'].describe())\n",
        "print(\"skew:  {}\".format(skew(data['charges'])))\n",
        "print(\"kurtosis:  {}\".format(kurtosis(data['charges'])))\n",
        "print(\"missing charges values: {}\".format(data['charges'].isnull().sum()))\n",
        "print(\"missing smoker values: {}\".format(data['smoker'].isnull().sum()))"
      ],
      "execution_count": null,
      "outputs": []
    },
    {
      "cell_type": "code",
      "metadata": {
        "id": "vFdrCDptfujV"
      },
      "source": [
        "f, axes = plt.subplots(1, 2)\n",
        "sns.kdeplot(data['charges'], bw=10000, ax=axes[0])\n",
        "sns.boxplot(data['charges'], ax=axes[1])\n",
        "plt.show()"
      ],
      "execution_count": null,
      "outputs": []
    },
    {
      "cell_type": "code",
      "metadata": {
        "id": "00dt6F8gf2Im"
      },
      "source": [
        "smoker = data[data['smoker']==1]\n",
        "non_smoker = data[data['smoker']==0]"
      ],
      "execution_count": null,
      "outputs": []
    },
    {
      "cell_type": "code",
      "metadata": {
        "id": "ICPMh_6Mf23Y"
      },
      "source": [
        "plt.title('Distribution of Medical Costs for Smokers Vs Non-Smokers')\n",
        "ax = sns.kdeplot(smoker['charges'], bw=10000, label='smoker')\n",
        "ax = sns.kdeplot(non_smoker['charges'], bw=10000, label='non-smoker')\n",
        "plt.show()"
      ],
      "execution_count": null,
      "outputs": []
    },
    {
      "cell_type": "code",
      "metadata": {
        "id": "h84IN-Vnf54k"
      },
      "source": [
        "plt.title('Distribution of Medical Costs for Smokers Vs Non-Smokers')\n",
        "ax = sns.boxplot(x=\"smoker\", y=\"charges\", data=data)"
      ],
      "execution_count": null,
      "outputs": []
    },
    {
      "cell_type": "code",
      "metadata": {
        "id": "75oMq7uff96_"
      },
      "source": [
        "statistic, pvalue = stats.ttest_ind(non_smoker['charges'], smoker['charges'], equal_var = False)\n",
        "print(\"2 sample, 2 sided t-test pvalue:  {} t-stat: {}\".format(pvalue,statistic))"
      ],
      "execution_count": null,
      "outputs": []
    },
    {
      "cell_type": "code",
      "metadata": {
        "id": "Pkm13e5vgA_E"
      },
      "source": [
        "def cohend(d1, d2):\n",
        "\tn1, n2 = len(d1), len(d2)\n",
        "\ts1, s2 = var(d1, ddof=1), var(d2, ddof=1)\n",
        "\ts = sqrt(((n1 - 1) * s1 + (n2 - 1) * s2) / (n1 + n2 - 2))\n",
        "\tu1, u2 = mean(d1), mean(d2)\n",
        "\treturn (u1 - u2) / s\n",
        "\t\n",
        "d = cohend(smoker['charges'], non_smoker['charges'])\n",
        "print(\"cohen's d:  {}\".format(d))"
      ],
      "execution_count": null,
      "outputs": []
    },
    {
      "cell_type": "code",
      "metadata": {
        "id": "yb4FMi-VgEoK"
      },
      "source": [
        "plt.title(\"BMI Versus Charges\")\n",
        "ax = sns.scatterplot(x=\"bmi\", y=\"charges\", data=data)\n",
        "plt.show()"
      ],
      "execution_count": null,
      "outputs": []
    },
    {
      "cell_type": "code",
      "metadata": {
        "id": "qVzcewrjgISY"
      },
      "source": [
        "data.bmi.corr(data.charges)"
      ],
      "execution_count": null,
      "outputs": []
    },
    {
      "cell_type": "code",
      "metadata": {
        "id": "8rr_ChdvgLf8"
      },
      "source": [
        "def corr_converge(data=data):\n",
        "    for i in range(0,60000,1000):\n",
        "        data_new = data[data['charges'] >= i]\n",
        "        print(\"lower bound: {} \\t correlation coefficient: {} \\t number of observations: {}\".format(i,data_new.bmi.corr(data_new.charges),len(data_new)))\n",
        "        pass\n",
        "    \n",
        "corr_converge()"
      ],
      "execution_count": null,
      "outputs": []
    },
    {
      "cell_type": "code",
      "metadata": {
        "id": "rYjq1iA_gOLU"
      },
      "source": [
        "data_new = data[data['charges']>=21000]\n",
        "plt.title(\"BMI Versus Charges Greater Than 21000\")\n",
        "ax = sns.scatterplot(x=\"bmi\", y=\"charges\", data=data_new)\n",
        "plt.show()"
      ],
      "execution_count": null,
      "outputs": []
    },
    {
      "cell_type": "code",
      "metadata": {
        "id": "zuwhsnmkgSNn"
      },
      "source": [
        "data_new.bmi.corr(data_new.charges)"
      ],
      "execution_count": null,
      "outputs": []
    }
  ]
}