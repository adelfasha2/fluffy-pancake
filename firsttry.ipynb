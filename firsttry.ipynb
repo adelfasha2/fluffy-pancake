{
  "nbformat": 4,
  "nbformat_minor": 0,
  "metadata": {
    "colab": {
      "name": "firsttry.ipynb",
      "provenance": [],
      "collapsed_sections": []
    },
    "kernelspec": {
      "name": "python3",
      "display_name": "Python 3"
    }
  },
  "cells": [
    {
      "cell_type": "code",
      "metadata": {
        "id": "qnsi5_525wPQ"
      },
      "source": [
        "import pandas as pd\n",
        "df = pd.read_csv('diabetes.csv')"
      ],
      "execution_count": null,
      "outputs": []
    },
    {
      "cell_type": "code",
      "metadata": {
        "id": "hJywe1u05zEN"
      },
      "source": [
        "df.head()"
      ],
      "execution_count": null,
      "outputs": []
    },
    {
      "cell_type": "code",
      "metadata": {
        "id": "aM7ORUml52go"
      },
      "source": [
        "df.info()"
      ],
      "execution_count": null,
      "outputs": []
    },
    {
      "cell_type": "code",
      "metadata": {
        "id": "qSFvK41D571n"
      },
      "source": [
        "<class 'pandas.core.frame.DataFrame'>\n",
        "RangeIndex: 768 entries, 0 to 767\n",
        "Data columns (total 9 columns):\n",
        " #   Column                    Non-Null Count  Dtype  \n",
        "---  ------                    --------------  -----  \n",
        " 0   Pregnancies               768 non-null    int64  \n",
        " 1   Glucose                   768 non-null    int64  \n",
        " 2   BloodPressure             768 non-null    int64  \n",
        " 3   SkinThickness             768 non-null    int64  \n",
        " 4   Insulin                   768 non-null    int64  \n",
        " 5   BMI                       768 non-null    float64\n",
        " 6   DiabetesPedigreeFunction  768 non-null    float64\n",
        " 7   Age                       768 non-null    int64  \n",
        " 8   Outcome                   768 non-null    int64  \n",
        "dtypes: float64(2), int64(7)\n",
        "memory usage: 54.1 KB"
      ],
      "execution_count": null,
      "outputs": []
    },
    {
      "cell_type": "code",
      "metadata": {
        "id": "-nRaE2S96CsJ"
      },
      "source": [
        "X = df[df.columns[:8]]\n",
        "y = df['Outcome']"
      ],
      "execution_count": null,
      "outputs": []
    },
    {
      "cell_type": "code",
      "metadata": {
        "id": "rV7bILYs6KPK"
      },
      "source": [
        "from sklearn.preprocessing import StandardScaler\n",
        "\n",
        "\n",
        "scaler = StandardScaler()\n",
        "scaler.fit(X)\n",
        "X = scaler.transform(X)"
      ],
      "execution_count": null,
      "outputs": []
    },
    {
      "cell_type": "code",
      "metadata": {
        "id": "whtTtTUU6QOC"
      },
      "source": [
        "from sklearn.model_selection import train_test_split\n",
        "\n",
        "X_train, X_test, y_train, y_test = train_test_split(\n",
        "    X, y, test_size=0.33, random_state=42)"
      ],
      "execution_count": null,
      "outputs": []
    },
    {
      "cell_type": "code",
      "metadata": {
        "id": "rzReNLy36Ub6"
      },
      "source": [
        "from sklearn.svm import SVC\n",
        "\n",
        "clf = SVC()\n",
        "clf.fit(X_train, y_train)"
      ],
      "execution_count": null,
      "outputs": []
    },
    {
      "cell_type": "code",
      "metadata": {
        "id": "qTMK2N506oEA"
      },
      "source": [
        "clf.score(X_test, y_test)"
      ],
      "execution_count": null,
      "outputs": []
    },
    {
      "cell_type": "code",
      "metadata": {
        "id": "O6peBl4-6sYc"
      },
      "source": [
        "https://www.kaggle.com/vivinbarath/simple-linear-regression-for-salary-data"
      ],
      "execution_count": null,
      "outputs": []
    },
    {
      "cell_type": "code",
      "metadata": {
        "id": "KC3eH5n16-fn"
      },
      "source": [
        "import pandas as pd\n",
        "from sklearn.model_selection import train_test_split\n",
        "from sklearn.preprocessing import StandardScaler\n",
        "\n",
        "data = pd.read_csv('Salary_Data.csv')"
      ],
      "execution_count": null,
      "outputs": []
    },
    {
      "cell_type": "code",
      "metadata": {
        "id": "y1kCABiY7Bha"
      },
      "source": [
        "data.info()"
      ],
      "execution_count": null,
      "outputs": []
    },
    {
      "cell_type": "code",
      "metadata": {
        "id": "DjGYwSQ57EzJ"
      },
      "source": [
        "data.head()"
      ],
      "execution_count": null,
      "outputs": []
    },
    {
      "cell_type": "code",
      "metadata": {
        "id": "4vjx8iL47HYl"
      },
      "source": [
        "import numpy as np\n",
        "\n",
        "X = data['YearsExperience']\n",
        "y = data['Salary']\n",
        "X = X[:,np.newaxis]"
      ],
      "execution_count": null,
      "outputs": []
    },
    {
      "cell_type": "code",
      "metadata": {
        "id": "iX_9kTyA7M5t"
      },
      "source": [
        "from sklearn.svm import SVR\n",
        "model  = SVR(C=1000, gamma=0.05, kernel='rbf')\n",
        "model.fit(X,y)"
      ],
      "execution_count": null,
      "outputs": []
    },
    {
      "cell_type": "code",
      "metadata": {
        "id": "AO_dEex57P9e"
      },
      "source": [
        "import matplotlib.pyplot as plt\n",
        "plt.scatter(X, y)\n",
        "plt.plot(X, model.predict(X))"
      ],
      "execution_count": null,
      "outputs": []
    },
    {
      "cell_type": "code",
      "metadata": {
        "id": "wH5pWoin7bJF"
      },
      "source": [
        "from sklearn.model_selection import GridSearchCV\n",
        "\n",
        "svrgs_parameters = {\n",
        "    'kernel': ['rbf'],\n",
        "    'C':     [150000,200000,250000],\n",
        "    'gamma': [0.004,0.0045,0.005]\n",
        "}\n",
        "clf = SVR()\n",
        "\n",
        "#svm.SVR()\n",
        "svr_cv = GridSearchCV(clf, svrgs_parameters, cv=8)\n",
        "svr_cv.fit(X,y)\n",
        "print(\"SVR GridSearch score: \"+str(svr_cv.best_score_))\n",
        "print(\"SVR GridSearch params: \")\n",
        "print(svr_cv.best_params_)"
      ],
      "execution_count": null,
      "outputs": []
    }
  ]
}